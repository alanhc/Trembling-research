{
 "cells": [
  {
   "cell_type": "code",
   "execution_count": 93,
   "id": "nervous-devices",
   "metadata": {},
   "outputs": [
    {
     "name": "stdout",
     "output_type": "stream",
     "text": [
      "datapoint per signal: 480\n"
     ]
    }
   ],
   "source": [
    "import tensorflow as tf\n",
    "from utils.data import *\n",
    "from utils.lstm_rnn import *\n",
    "import os\n",
    "import pandas as pd\n",
    "if not os.path.isdir(\"save\"):\n",
    "    os.mkdir(\"save\")\n",
    "##### config #####\n",
    "save_dataset = True # 儲存dataset，true: 生成dataset、false: 使用save/ 儲存的\n",
    "window_size = 60 # (30,45,60)\n",
    "shift = 15 # (5,15,30)\n",
    "repeat = 100\n",
    "\n",
    "\n",
    "\n",
    "##### config #####\n",
    "dataPoint_per_signal = (180-window_size+1)//shift  * window_size\n",
    "print(\"datapoint per signal:\", dataPoint_per_signal)"
   ]
  },
  {
   "cell_type": "code",
   "execution_count": 94,
   "id": "continuing-butter",
   "metadata": {
    "scrolled": true
   },
   "outputs": [
    {
     "name": "stdout",
     "output_type": "stream",
     "text": [
      "[PhysicalDevice(name='/physical_device:GPU:0', device_type='GPU'), PhysicalDevice(name='/physical_device:GPU:1', device_type='GPU')]\n",
      "num of freq combination (160000, 2)\n",
      "[1]|t:0.0 0.0003483295440673828455466560.000394582748413085940.00039577484130859375\r"
     ]
    }
   ],
   "source": [
    "physical_devices = tf.config.list_physical_devices('GPU')\n",
    "print(physical_devices)\n",
    "for i in range(len(physical_devices)):\n",
    "    tf.config.experimental.set_memory_growth(physical_devices[i], enable=True)\n",
    "\n",
    "if save_dataset:\n",
    "    X_raw, y = generate_time_series_dataset(window_size=window_size, shift=shift, repeat=repeat, dataPoint_per_signal=dataPoint_per_signal)\n",
    "    #X = tf.reshape(X_raw, [y.shape[0],timestep,dataPoint_per_signal//timestep])\n",
    "    np.save(\"save/X_raw-time.npy\", X_raw)\n",
    "    #np.save(\"save/X-time.npy\", X.numpy())\n",
    "    np.save(\"save/y-time.npy\", y)\n",
    "else:\n",
    "    X_raw = np.load(\"save/X_raw-time.npy\")\n",
    "    #X = np.load(\"save/X-time.npy\")\n",
    "    y = np.load(\"save/y-time.npy\")\n",
    "\n",
    "#X_raw = tf.convert_to_tensor(X_raw)"
   ]
  },
  {
   "cell_type": "code",
   "execution_count": 95,
   "id": "49635070",
   "metadata": {
    "scrolled": true
   },
   "outputs": [
    {
     "data": {
      "text/plain": [
       "'\\ntimestep=3\\n\\nX = tf.reshape(X_raw, [y.shape[0],timestep,dataPoint_per_signal//timestep])\\nprint(X.shape)\\ntrain_dataset, val_dataset, test_dataset = split_dataset(X, y)\\nX.shape[2]\\n'"
      ]
     },
     "execution_count": 95,
     "metadata": {},
     "output_type": "execute_result"
    }
   ],
   "source": [
    "\"\"\"\n",
    "timestep=3\n",
    "\n",
    "X = tf.reshape(X_raw, [y.shape[0],timestep,dataPoint_per_signal//timestep])\n",
    "print(X.shape)\n",
    "train_dataset, val_dataset, test_dataset = split_dataset(X, y)\n",
    "X.shape[2]\n",
    "\"\"\""
   ]
  },
  {
   "cell_type": "code",
   "execution_count": 96,
   "id": "classical-malawi",
   "metadata": {
    "scrolled": true
   },
   "outputs": [
    {
     "name": "stdout",
     "output_type": "stream",
     "text": [
      "(160000, 15, 32)\n",
      "112000 24000 24000\n",
      "train: 112000\n",
      "val: 24000\n",
      "test: 24000\n",
      "new train 112000\n",
      "Model: \"model_13\"\n",
      "__________________________________________________________________________________________________\n",
      "Layer (type)                    Output Shape         Param #     Connected to                     \n",
      "==================================================================================================\n",
      "input_14 (InputLayer)           [(None, 15, 32)]     0                                            \n",
      "__________________________________________________________________________________________________\n",
      "vfc_1_1 (LSTM)                  [(None, 15, 200), (N 186400      input_14[0][0]                   \n",
      "__________________________________________________________________________________________________\n",
      "vfc_1_2 (LSTM)                  [(None, 200), (None, 320800      vfc_1_1[0][0]                    \n",
      "__________________________________________________________________________________________________\n",
      "vfc_2_1 (LSTM)                  (None, 15, 200)      186400      input_14[0][0]                   \n",
      "                                                                 vfc_1_1[0][1]                    \n",
      "                                                                 vfc_1_1[0][2]                    \n",
      "__________________________________________________________________________________________________\n",
      "vfc_2_2 (LSTM)                  (None, 200)          320800      vfc_2_1[0][0]                    \n",
      "                                                                 vfc_1_2[0][1]                    \n",
      "                                                                 vfc_1_2[0][2]                    \n",
      "__________________________________________________________________________________________________\n",
      "dense_26 (Dense)                (None, 200)          40200       vfc_1_2[0][1]                    \n",
      "__________________________________________________________________________________________________\n",
      "dense_27 (Dense)                (None, 200)          40200       vfc_2_2[0][0]                    \n",
      "__________________________________________________________________________________________________\n",
      "out_1 (Dense)                   (None, 40)           8040        dense_26[0][0]                   \n",
      "__________________________________________________________________________________________________\n",
      "out_2 (Dense)                   (None, 40)           8040        dense_27[0][0]                   \n",
      "==================================================================================================\n",
      "Total params: 1,110,880\n",
      "Trainable params: 1,110,880\n",
      "Non-trainable params: 0\n",
      "__________________________________________________________________________________________________\n",
      "None\n",
      "Epoch 1/100\n",
      " 2/28 [=>............................] - ETA: 4s - loss: 7.3519 - out_1_loss: 3.6784 - out_2_loss: 3.6735 - out_1_acc: 0.1089 - out_2_acc: 0.1403WARNING:tensorflow:Method (on_train_batch_end) is slow compared to the batch update (0.113359). Check your callbacks.\n",
      "28/28 [==============================] - 4s 143ms/step - loss: 5.7948 - out_1_loss: 2.8866 - out_2_loss: 2.9082 - out_1_acc: 0.3364 - out_2_acc: 0.3248 - val_loss: 3.6800 - val_out_1_loss: 1.8284 - val_out_2_loss: 1.8516 - val_out_1_acc: 0.5295 - val_out_2_acc: 0.5628\n",
      "Epoch 2/100\n",
      "28/28 [==============================] - 3s 104ms/step - loss: 2.3977 - out_1_loss: 1.2035 - out_2_loss: 1.1942 - out_1_acc: 0.6857 - out_2_acc: 0.7106 - val_loss: 1.3546 - val_out_1_loss: 0.7337 - val_out_2_loss: 0.6209 - val_out_1_acc: 0.8153 - val_out_2_acc: 0.8502\n",
      "Epoch 3/100\n",
      "28/28 [==============================] - 3s 103ms/step - loss: 0.9198 - out_1_loss: 0.5430 - out_2_loss: 0.3768 - out_1_acc: 0.8641 - out_2_acc: 0.9137 - val_loss: 0.6292 - val_out_1_loss: 0.3958 - val_out_2_loss: 0.2334 - val_out_1_acc: 0.9018 - val_out_2_acc: 0.9408\n",
      "Epoch 4/100\n",
      "28/28 [==============================] - 3s 104ms/step - loss: 0.4791 - out_1_loss: 0.3143 - out_2_loss: 0.1648 - out_1_acc: 0.9136 - out_2_acc: 0.9488 - val_loss: 0.3895 - val_out_1_loss: 0.2517 - val_out_2_loss: 0.1377 - val_out_1_acc: 0.9268 - val_out_2_acc: 0.9497\n",
      "Epoch 5/100\n",
      "28/28 [==============================] - 3s 104ms/step - loss: 0.3210 - out_1_loss: 0.2070 - out_2_loss: 0.1141 - out_1_acc: 0.9298 - out_2_acc: 0.9518 - val_loss: 0.2968 - val_out_1_loss: 0.1839 - val_out_2_loss: 0.1129 - val_out_1_acc: 0.9353 - val_out_2_acc: 0.9498\n",
      "Epoch 6/100\n",
      "28/28 [==============================] - 3s 104ms/step - loss: 0.2545 - out_1_loss: 0.1555 - out_2_loss: 0.0990 - out_1_acc: 0.9369 - out_2_acc: 0.9528 - val_loss: 0.2549 - val_out_1_loss: 0.1512 - val_out_2_loss: 0.1037 - val_out_1_acc: 0.9373 - val_out_2_acc: 0.9489\n",
      "Epoch 7/100\n",
      "28/28 [==============================] - 3s 104ms/step - loss: 0.2248 - out_1_loss: 0.1324 - out_2_loss: 0.0924 - out_1_acc: 0.9398 - out_2_acc: 0.9532 - val_loss: 0.2330 - val_out_1_loss: 0.1355 - val_out_2_loss: 0.0975 - val_out_1_acc: 0.9405 - val_out_2_acc: 0.9498\n",
      "Epoch 8/100\n",
      "28/28 [==============================] - 3s 104ms/step - loss: 0.2084 - out_1_loss: 0.1202 - out_2_loss: 0.0882 - out_1_acc: 0.9415 - out_2_acc: 0.9538 - val_loss: 0.2238 - val_out_1_loss: 0.1274 - val_out_2_loss: 0.0964 - val_out_1_acc: 0.9398 - val_out_2_acc: 0.9503\n",
      "Epoch 9/100\n",
      "28/28 [==============================] - 3s 105ms/step - loss: 0.1998 - out_1_loss: 0.1137 - out_2_loss: 0.0861 - out_1_acc: 0.9420 - out_2_acc: 0.9543 - val_loss: 0.2183 - val_out_1_loss: 0.1224 - val_out_2_loss: 0.0959 - val_out_1_acc: 0.9391 - val_out_2_acc: 0.9504\n",
      "Epoch 10/100\n",
      "28/28 [==============================] - 3s 105ms/step - loss: 0.1938 - out_1_loss: 0.1099 - out_2_loss: 0.0839 - out_1_acc: 0.9425 - out_2_acc: 0.9546 - val_loss: 0.2151 - val_out_1_loss: 0.1204 - val_out_2_loss: 0.0948 - val_out_1_acc: 0.9399 - val_out_2_acc: 0.9499\n",
      "Epoch 11/100\n",
      "28/28 [==============================] - 3s 108ms/step - loss: 0.1885 - out_1_loss: 0.1062 - out_2_loss: 0.0823 - out_1_acc: 0.9431 - out_2_acc: 0.9552 - val_loss: 0.2094 - val_out_1_loss: 0.1136 - val_out_2_loss: 0.0957 - val_out_1_acc: 0.9410 - val_out_2_acc: 0.9506\n",
      "Epoch 12/100\n",
      "28/28 [==============================] - 3s 105ms/step - loss: 0.1846 - out_1_loss: 0.1032 - out_2_loss: 0.0814 - out_1_acc: 0.9434 - out_2_acc: 0.9558 - val_loss: 0.2080 - val_out_1_loss: 0.1136 - val_out_2_loss: 0.0944 - val_out_1_acc: 0.9402 - val_out_2_acc: 0.9502\n",
      "Epoch 13/100\n",
      "28/28 [==============================] - 3s 107ms/step - loss: 0.1813 - out_1_loss: 0.1013 - out_2_loss: 0.0801 - out_1_acc: 0.9437 - out_2_acc: 0.9560 - val_loss: 0.2105 - val_out_1_loss: 0.1144 - val_out_2_loss: 0.0961 - val_out_1_acc: 0.9406 - val_out_2_acc: 0.9490\n",
      "Epoch 14/100\n",
      "28/28 [==============================] - 3s 107ms/step - loss: 0.1797 - out_1_loss: 0.1005 - out_2_loss: 0.0792 - out_1_acc: 0.9446 - out_2_acc: 0.9561 - val_loss: 0.2083 - val_out_1_loss: 0.1145 - val_out_2_loss: 0.0938 - val_out_1_acc: 0.9403 - val_out_2_acc: 0.9498\n",
      "Epoch 15/100\n",
      "28/28 [==============================] - 3s 106ms/step - loss: 0.1781 - out_1_loss: 0.0991 - out_2_loss: 0.0789 - out_1_acc: 0.9448 - out_2_acc: 0.9566 - val_loss: 0.2072 - val_out_1_loss: 0.1134 - val_out_2_loss: 0.0937 - val_out_1_acc: 0.9400 - val_out_2_acc: 0.9503\n",
      "Epoch 16/100\n",
      "28/28 [==============================] - 3s 104ms/step - loss: 0.1773 - out_1_loss: 0.0984 - out_2_loss: 0.0789 - out_1_acc: 0.9449 - out_2_acc: 0.9562 - val_loss: 0.2035 - val_out_1_loss: 0.1119 - val_out_2_loss: 0.0916 - val_out_1_acc: 0.9393 - val_out_2_acc: 0.9513\n",
      "Epoch 17/100\n",
      "28/28 [==============================] - 3s 106ms/step - loss: 0.1750 - out_1_loss: 0.0974 - out_2_loss: 0.0777 - out_1_acc: 0.9455 - out_2_acc: 0.9569 - val_loss: 0.2038 - val_out_1_loss: 0.1123 - val_out_2_loss: 0.0915 - val_out_1_acc: 0.9401 - val_out_2_acc: 0.9496\n",
      "Epoch 18/100\n",
      "28/28 [==============================] - 3s 104ms/step - loss: 0.1743 - out_1_loss: 0.0971 - out_2_loss: 0.0771 - out_1_acc: 0.9452 - out_2_acc: 0.9572 - val_loss: 0.2049 - val_out_1_loss: 0.1127 - val_out_2_loss: 0.0922 - val_out_1_acc: 0.9398 - val_out_2_acc: 0.9503\n",
      "Epoch 19/100\n"
     ]
    },
    {
     "name": "stdout",
     "output_type": "stream",
     "text": [
      "28/28 [==============================] - 3s 105ms/step - loss: 0.1737 - out_1_loss: 0.0970 - out_2_loss: 0.0767 - out_1_acc: 0.9453 - out_2_acc: 0.9569 - val_loss: 0.2057 - val_out_1_loss: 0.1131 - val_out_2_loss: 0.0926 - val_out_1_acc: 0.9401 - val_out_2_acc: 0.9486\n",
      "Epoch 20/100\n",
      "28/28 [==============================] - 3s 104ms/step - loss: 0.1727 - out_1_loss: 0.0959 - out_2_loss: 0.0768 - out_1_acc: 0.9458 - out_2_acc: 0.9572 - val_loss: 0.2088 - val_out_1_loss: 0.1142 - val_out_2_loss: 0.0946 - val_out_1_acc: 0.9408 - val_out_2_acc: 0.9507\n",
      "Epoch 21/100\n",
      "28/28 [==============================] - 3s 106ms/step - loss: 0.1720 - out_1_loss: 0.0951 - out_2_loss: 0.0770 - out_1_acc: 0.9465 - out_2_acc: 0.9569 - val_loss: 0.2082 - val_out_1_loss: 0.1152 - val_out_2_loss: 0.0930 - val_out_1_acc: 0.9391 - val_out_2_acc: 0.9509\n",
      "Epoch 22/100\n",
      "28/28 [==============================] - 3s 107ms/step - loss: 0.1706 - out_1_loss: 0.0948 - out_2_loss: 0.0758 - out_1_acc: 0.9457 - out_2_acc: 0.9574 - val_loss: 0.2109 - val_out_1_loss: 0.1155 - val_out_2_loss: 0.0954 - val_out_1_acc: 0.9396 - val_out_2_acc: 0.9505\n",
      "Epoch 23/100\n",
      "28/28 [==============================] - 3s 106ms/step - loss: 0.1691 - out_1_loss: 0.0946 - out_2_loss: 0.0745 - out_1_acc: 0.9464 - out_2_acc: 0.9578 - val_loss: 0.2088 - val_out_1_loss: 0.1162 - val_out_2_loss: 0.0926 - val_out_1_acc: 0.9403 - val_out_2_acc: 0.9517\n",
      "Epoch 24/100\n",
      "28/28 [==============================] - 3s 106ms/step - loss: 0.1683 - out_1_loss: 0.0940 - out_2_loss: 0.0743 - out_1_acc: 0.9469 - out_2_acc: 0.9576 - val_loss: 0.2080 - val_out_1_loss: 0.1149 - val_out_2_loss: 0.0931 - val_out_1_acc: 0.9397 - val_out_2_acc: 0.9512\n",
      "Epoch 25/100\n",
      "28/28 [==============================] - 3s 107ms/step - loss: 0.1669 - out_1_loss: 0.0933 - out_2_loss: 0.0736 - out_1_acc: 0.9471 - out_2_acc: 0.9583 - val_loss: 0.2104 - val_out_1_loss: 0.1153 - val_out_2_loss: 0.0951 - val_out_1_acc: 0.9393 - val_out_2_acc: 0.9505\n",
      "Epoch 26/100\n",
      "28/28 [==============================] - 3s 105ms/step - loss: 0.1662 - out_1_loss: 0.0931 - out_2_loss: 0.0731 - out_1_acc: 0.9470 - out_2_acc: 0.9591 - val_loss: 0.2133 - val_out_1_loss: 0.1168 - val_out_2_loss: 0.0965 - val_out_1_acc: 0.9383 - val_out_2_acc: 0.9523\n",
      "Epoch 27/100\n",
      "28/28 [==============================] - 3s 107ms/step - loss: 0.1967 - out_1_loss: 0.1082 - out_2_loss: 0.0884 - out_1_acc: 0.9434 - out_2_acc: 0.9545 - val_loss: 0.2220 - val_out_1_loss: 0.1194 - val_out_2_loss: 0.1026 - val_out_1_acc: 0.9407 - val_out_2_acc: 0.9503\n",
      "Epoch 28/100\n",
      "28/28 [==============================] - 3s 105ms/step - loss: 0.1773 - out_1_loss: 0.0984 - out_2_loss: 0.0789 - out_1_acc: 0.9455 - out_2_acc: 0.9570 - val_loss: 0.2095 - val_out_1_loss: 0.1124 - val_out_2_loss: 0.0972 - val_out_1_acc: 0.9404 - val_out_2_acc: 0.9500\n",
      "Epoch 29/100\n",
      "28/28 [==============================] - 3s 104ms/step - loss: 0.1673 - out_1_loss: 0.0930 - out_2_loss: 0.0744 - out_1_acc: 0.9464 - out_2_acc: 0.9574 - val_loss: 0.2088 - val_out_1_loss: 0.1127 - val_out_2_loss: 0.0960 - val_out_1_acc: 0.9401 - val_out_2_acc: 0.9504\n",
      "Epoch 30/100\n",
      "28/28 [==============================] - 3s 104ms/step - loss: 0.1644 - out_1_loss: 0.0915 - out_2_loss: 0.0730 - out_1_acc: 0.9478 - out_2_acc: 0.9586 - val_loss: 0.2112 - val_out_1_loss: 0.1127 - val_out_2_loss: 0.0986 - val_out_1_acc: 0.9400 - val_out_2_acc: 0.9501\n",
      "Epoch 31/100\n",
      "28/28 [==============================] - 3s 106ms/step - loss: 0.1623 - out_1_loss: 0.0909 - out_2_loss: 0.0714 - out_1_acc: 0.9478 - out_2_acc: 0.9591 - val_loss: 0.2119 - val_out_1_loss: 0.1143 - val_out_2_loss: 0.0976 - val_out_1_acc: 0.9409 - val_out_2_acc: 0.9508\n",
      "Epoch 32/100\n",
      "28/28 [==============================] - 3s 107ms/step - loss: 0.1601 - out_1_loss: 0.0904 - out_2_loss: 0.0698 - out_1_acc: 0.9482 - out_2_acc: 0.9597 - val_loss: 0.2128 - val_out_1_loss: 0.1145 - val_out_2_loss: 0.0983 - val_out_1_acc: 0.9405 - val_out_2_acc: 0.9510\n",
      "Epoch 33/100\n",
      "28/28 [==============================] - 3s 106ms/step - loss: 0.1577 - out_1_loss: 0.0895 - out_2_loss: 0.0682 - out_1_acc: 0.9486 - out_2_acc: 0.9607 - val_loss: 0.2174 - val_out_1_loss: 0.1150 - val_out_2_loss: 0.1024 - val_out_1_acc: 0.9405 - val_out_2_acc: 0.9504\n",
      "Epoch 34/100\n",
      "28/28 [==============================] - 3s 108ms/step - loss: 0.1559 - out_1_loss: 0.0884 - out_2_loss: 0.0675 - out_1_acc: 0.9491 - out_2_acc: 0.9607 - val_loss: 0.2205 - val_out_1_loss: 0.1173 - val_out_2_loss: 0.1032 - val_out_1_acc: 0.9402 - val_out_2_acc: 0.9504\n",
      "Epoch 35/100\n",
      "28/28 [==============================] - 3s 107ms/step - loss: 0.1562 - out_1_loss: 0.0891 - out_2_loss: 0.0671 - out_1_acc: 0.9482 - out_2_acc: 0.9610 - val_loss: 0.2192 - val_out_1_loss: 0.1170 - val_out_2_loss: 0.1023 - val_out_1_acc: 0.9405 - val_out_2_acc: 0.9509\n",
      "Epoch 36/100\n",
      "28/28 [==============================] - 3s 107ms/step - loss: 0.1555 - out_1_loss: 0.0878 - out_2_loss: 0.0677 - out_1_acc: 0.9493 - out_2_acc: 0.9605 - val_loss: 0.2194 - val_out_1_loss: 0.1182 - val_out_2_loss: 0.1012 - val_out_1_acc: 0.9394 - val_out_2_acc: 0.9515\n",
      "Epoch 37/100\n",
      "28/28 [==============================] - 3s 107ms/step - loss: 0.1566 - out_1_loss: 0.0894 - out_2_loss: 0.0672 - out_1_acc: 0.9485 - out_2_acc: 0.9610 - val_loss: 0.2217 - val_out_1_loss: 0.1186 - val_out_2_loss: 0.1031 - val_out_1_acc: 0.9396 - val_out_2_acc: 0.9513\n",
      "Epoch 38/100\n",
      "28/28 [==============================] - 3s 105ms/step - loss: 0.1543 - out_1_loss: 0.0877 - out_2_loss: 0.0666 - out_1_acc: 0.9489 - out_2_acc: 0.9608 - val_loss: 0.2178 - val_out_1_loss: 0.1163 - val_out_2_loss: 0.1015 - val_out_1_acc: 0.9397 - val_out_2_acc: 0.9520\n",
      "Epoch 39/100\n",
      "28/28 [==============================] - 3s 106ms/step - loss: 0.1524 - out_1_loss: 0.0871 - out_2_loss: 0.0653 - out_1_acc: 0.9499 - out_2_acc: 0.9620 - val_loss: 0.2206 - val_out_1_loss: 0.1172 - val_out_2_loss: 0.1034 - val_out_1_acc: 0.9394 - val_out_2_acc: 0.9511\n",
      "Epoch 40/100\n",
      "28/28 [==============================] - 3s 107ms/step - loss: 0.1507 - out_1_loss: 0.0868 - out_2_loss: 0.0638 - out_1_acc: 0.9498 - out_2_acc: 0.9620 - val_loss: 0.2229 - val_out_1_loss: 0.1167 - val_out_2_loss: 0.1062 - val_out_1_acc: 0.9392 - val_out_2_acc: 0.9508\n",
      "Epoch 41/100\n",
      "28/28 [==============================] - 3s 108ms/step - loss: 0.1487 - out_1_loss: 0.0859 - out_2_loss: 0.0628 - out_1_acc: 0.9506 - out_2_acc: 0.9628 - val_loss: 0.2258 - val_out_1_loss: 0.1176 - val_out_2_loss: 0.1081 - val_out_1_acc: 0.9395 - val_out_2_acc: 0.9497\n",
      "Epoch 42/100\n",
      "28/28 [==============================] - 3s 107ms/step - loss: 0.1481 - out_1_loss: 0.0854 - out_2_loss: 0.0627 - out_1_acc: 0.9508 - out_2_acc: 0.9628 - val_loss: 0.2254 - val_out_1_loss: 0.1157 - val_out_2_loss: 0.1097 - val_out_1_acc: 0.9401 - val_out_2_acc: 0.9503\n",
      "Epoch 43/100\n",
      "28/28 [==============================] - 3s 108ms/step - loss: 0.1473 - out_1_loss: 0.0849 - out_2_loss: 0.0624 - out_1_acc: 0.9512 - out_2_acc: 0.9634 - val_loss: 0.2267 - val_out_1_loss: 0.1173 - val_out_2_loss: 0.1094 - val_out_1_acc: 0.9399 - val_out_2_acc: 0.9499\n",
      "Epoch 44/100\n",
      "28/28 [==============================] - 3s 107ms/step - loss: 0.1474 - out_1_loss: 0.0846 - out_2_loss: 0.0627 - out_1_acc: 0.9511 - out_2_acc: 0.9627 - val_loss: 0.2305 - val_out_1_loss: 0.1167 - val_out_2_loss: 0.1138 - val_out_1_acc: 0.9400 - val_out_2_acc: 0.9507\n",
      "Epoch 45/100\n",
      "28/28 [==============================] - 3s 105ms/step - loss: 0.1471 - out_1_loss: 0.0847 - out_2_loss: 0.0624 - out_1_acc: 0.9514 - out_2_acc: 0.9632 - val_loss: 0.2321 - val_out_1_loss: 0.1183 - val_out_2_loss: 0.1138 - val_out_1_acc: 0.9398 - val_out_2_acc: 0.9518\n",
      "Epoch 46/100\n",
      "28/28 [==============================] - 3s 108ms/step - loss: 0.1461 - out_1_loss: 0.0846 - out_2_loss: 0.0615 - out_1_acc: 0.9513 - out_2_acc: 0.9635 - val_loss: 0.2346 - val_out_1_loss: 0.1202 - val_out_2_loss: 0.1144 - val_out_1_acc: 0.9402 - val_out_2_acc: 0.9516\n",
      "Epoch 47/100\n",
      "28/28 [==============================] - 3s 106ms/step - loss: 0.1449 - out_1_loss: 0.0838 - out_2_loss: 0.0611 - out_1_acc: 0.9513 - out_2_acc: 0.9642 - val_loss: 0.2355 - val_out_1_loss: 0.1210 - val_out_2_loss: 0.1145 - val_out_1_acc: 0.9392 - val_out_2_acc: 0.9511\n",
      "Epoch 48/100\n"
     ]
    },
    {
     "name": "stdout",
     "output_type": "stream",
     "text": [
      "28/28 [==============================] - 3s 107ms/step - loss: 0.1428 - out_1_loss: 0.0829 - out_2_loss: 0.0599 - out_1_acc: 0.9520 - out_2_acc: 0.9646 - val_loss: 0.2348 - val_out_1_loss: 0.1203 - val_out_2_loss: 0.1145 - val_out_1_acc: 0.9396 - val_out_2_acc: 0.9510\n",
      "Epoch 49/100\n",
      "28/28 [==============================] - 3s 107ms/step - loss: 0.1419 - out_1_loss: 0.0826 - out_2_loss: 0.0593 - out_1_acc: 0.9525 - out_2_acc: 0.9649 - val_loss: 0.2380 - val_out_1_loss: 0.1216 - val_out_2_loss: 0.1164 - val_out_1_acc: 0.9401 - val_out_2_acc: 0.9517\n",
      "Epoch 50/100\n",
      "28/28 [==============================] - 3s 108ms/step - loss: 0.1386 - out_1_loss: 0.0807 - out_2_loss: 0.0579 - out_1_acc: 0.9528 - out_2_acc: 0.9650 - val_loss: 0.2397 - val_out_1_loss: 0.1203 - val_out_2_loss: 0.1194 - val_out_1_acc: 0.9415 - val_out_2_acc: 0.9503\n",
      "Epoch 51/100\n",
      "28/28 [==============================] - 3s 108ms/step - loss: 0.1360 - out_1_loss: 0.0791 - out_2_loss: 0.0569 - out_1_acc: 0.9539 - out_2_acc: 0.9654 - val_loss: 0.2387 - val_out_1_loss: 0.1205 - val_out_2_loss: 0.1182 - val_out_1_acc: 0.9413 - val_out_2_acc: 0.9512\n",
      "Epoch 52/100\n",
      "28/28 [==============================] - 3s 109ms/step - loss: 0.1349 - out_1_loss: 0.0782 - out_2_loss: 0.0567 - out_1_acc: 0.9542 - out_2_acc: 0.9652 - val_loss: 0.2440 - val_out_1_loss: 0.1224 - val_out_2_loss: 0.1217 - val_out_1_acc: 0.9398 - val_out_2_acc: 0.9499\n",
      "Epoch 53/100\n",
      "28/28 [==============================] - 3s 107ms/step - loss: 0.1334 - out_1_loss: 0.0775 - out_2_loss: 0.0560 - out_1_acc: 0.9545 - out_2_acc: 0.9660 - val_loss: 0.2440 - val_out_1_loss: 0.1242 - val_out_2_loss: 0.1198 - val_out_1_acc: 0.9400 - val_out_2_acc: 0.9517\n",
      "Epoch 54/100\n",
      "28/28 [==============================] - 3s 107ms/step - loss: 0.1339 - out_1_loss: 0.0777 - out_2_loss: 0.0561 - out_1_acc: 0.9541 - out_2_acc: 0.9658 - val_loss: 0.2492 - val_out_1_loss: 0.1259 - val_out_2_loss: 0.1232 - val_out_1_acc: 0.9388 - val_out_2_acc: 0.9503\n",
      "Epoch 55/100\n",
      "28/28 [==============================] - 3s 105ms/step - loss: 0.1345 - out_1_loss: 0.0783 - out_2_loss: 0.0562 - out_1_acc: 0.9534 - out_2_acc: 0.9658 - val_loss: 0.2488 - val_out_1_loss: 0.1266 - val_out_2_loss: 0.1222 - val_out_1_acc: 0.9403 - val_out_2_acc: 0.9507\n",
      "Epoch 56/100\n",
      "28/28 [==============================] - 3s 106ms/step - loss: 0.1329 - out_1_loss: 0.0775 - out_2_loss: 0.0554 - out_1_acc: 0.9544 - out_2_acc: 0.9659 - val_loss: 0.2531 - val_out_1_loss: 0.1275 - val_out_2_loss: 0.1256 - val_out_1_acc: 0.9395 - val_out_2_acc: 0.9504\n",
      "Epoch 57/100\n",
      "28/28 [==============================] - 3s 108ms/step - loss: 0.1325 - out_1_loss: 0.0766 - out_2_loss: 0.0559 - out_1_acc: 0.9554 - out_2_acc: 0.9659 - val_loss: 0.2497 - val_out_1_loss: 0.1254 - val_out_2_loss: 0.1243 - val_out_1_acc: 0.9392 - val_out_2_acc: 0.9498\n",
      "Epoch 58/100\n",
      "28/28 [==============================] - 3s 108ms/step - loss: 0.1321 - out_1_loss: 0.0768 - out_2_loss: 0.0553 - out_1_acc: 0.9551 - out_2_acc: 0.9662 - val_loss: 0.2532 - val_out_1_loss: 0.1283 - val_out_2_loss: 0.1249 - val_out_1_acc: 0.9390 - val_out_2_acc: 0.9510\n",
      "Epoch 59/100\n",
      "28/28 [==============================] - 3s 108ms/step - loss: 0.1304 - out_1_loss: 0.0760 - out_2_loss: 0.0544 - out_1_acc: 0.9553 - out_2_acc: 0.9669 - val_loss: 0.2528 - val_out_1_loss: 0.1287 - val_out_2_loss: 0.1241 - val_out_1_acc: 0.9392 - val_out_2_acc: 0.9511\n",
      "Epoch 60/100\n",
      "28/28 [==============================] - 3s 106ms/step - loss: 0.1294 - out_1_loss: 0.0753 - out_2_loss: 0.0541 - out_1_acc: 0.9555 - out_2_acc: 0.9665 - val_loss: 0.2575 - val_out_1_loss: 0.1297 - val_out_2_loss: 0.1278 - val_out_1_acc: 0.9390 - val_out_2_acc: 0.9518\n",
      "Epoch 61/100\n",
      "28/28 [==============================] - 3s 108ms/step - loss: 0.1293 - out_1_loss: 0.0751 - out_2_loss: 0.0542 - out_1_acc: 0.9555 - out_2_acc: 0.9665 - val_loss: 0.2609 - val_out_1_loss: 0.1311 - val_out_2_loss: 0.1298 - val_out_1_acc: 0.9386 - val_out_2_acc: 0.9508\n",
      "Epoch 62/100\n",
      "28/28 [==============================] - 3s 108ms/step - loss: 0.1282 - out_1_loss: 0.0749 - out_2_loss: 0.0534 - out_1_acc: 0.9556 - out_2_acc: 0.9671 - val_loss: 0.2603 - val_out_1_loss: 0.1301 - val_out_2_loss: 0.1302 - val_out_1_acc: 0.9410 - val_out_2_acc: 0.9511\n",
      "Epoch 63/100\n",
      "28/28 [==============================] - 3s 107ms/step - loss: 0.1274 - out_1_loss: 0.0750 - out_2_loss: 0.0523 - out_1_acc: 0.9560 - out_2_acc: 0.9684 - val_loss: 0.2636 - val_out_1_loss: 0.1310 - val_out_2_loss: 0.1325 - val_out_1_acc: 0.9407 - val_out_2_acc: 0.9508\n",
      "Epoch 64/100\n",
      "28/28 [==============================] - 3s 107ms/step - loss: 0.1274 - out_1_loss: 0.0749 - out_2_loss: 0.0525 - out_1_acc: 0.9558 - out_2_acc: 0.9683 - val_loss: 0.2640 - val_out_1_loss: 0.1314 - val_out_2_loss: 0.1326 - val_out_1_acc: 0.9398 - val_out_2_acc: 0.9506\n",
      "Epoch 65/100\n",
      "28/28 [==============================] - 3s 107ms/step - loss: 0.1272 - out_1_loss: 0.0748 - out_2_loss: 0.0524 - out_1_acc: 0.9557 - out_2_acc: 0.9676 - val_loss: 0.2648 - val_out_1_loss: 0.1323 - val_out_2_loss: 0.1325 - val_out_1_acc: 0.9403 - val_out_2_acc: 0.9515\n",
      "Epoch 66/100\n",
      "28/28 [==============================] - 3s 106ms/step - loss: 0.1256 - out_1_loss: 0.0743 - out_2_loss: 0.0513 - out_1_acc: 0.9563 - out_2_acc: 0.9687 - val_loss: 0.2686 - val_out_1_loss: 0.1326 - val_out_2_loss: 0.1360 - val_out_1_acc: 0.9412 - val_out_2_acc: 0.9512\n",
      "Epoch 67/100\n",
      "28/28 [==============================] - 3s 108ms/step - loss: 0.1251 - out_1_loss: 0.0734 - out_2_loss: 0.0517 - out_1_acc: 0.9563 - out_2_acc: 0.9687 - val_loss: 0.2682 - val_out_1_loss: 0.1343 - val_out_2_loss: 0.1339 - val_out_1_acc: 0.9390 - val_out_2_acc: 0.9503\n",
      "Epoch 68/100\n",
      "28/28 [==============================] - 3s 110ms/step - loss: 0.1262 - out_1_loss: 0.0740 - out_2_loss: 0.0522 - out_1_acc: 0.9559 - out_2_acc: 0.9679 - val_loss: 0.2709 - val_out_1_loss: 0.1349 - val_out_2_loss: 0.1360 - val_out_1_acc: 0.9414 - val_out_2_acc: 0.9507\n",
      "Epoch 69/100\n",
      "28/28 [==============================] - 3s 108ms/step - loss: 0.1239 - out_1_loss: 0.0729 - out_2_loss: 0.0509 - out_1_acc: 0.9571 - out_2_acc: 0.9686 - val_loss: 0.2729 - val_out_1_loss: 0.1340 - val_out_2_loss: 0.1389 - val_out_1_acc: 0.9403 - val_out_2_acc: 0.9515\n",
      "Epoch 70/100\n",
      "28/28 [==============================] - 3s 108ms/step - loss: 0.1238 - out_1_loss: 0.0732 - out_2_loss: 0.0506 - out_1_acc: 0.9567 - out_2_acc: 0.9692 - val_loss: 0.2741 - val_out_1_loss: 0.1353 - val_out_2_loss: 0.1387 - val_out_1_acc: 0.9398 - val_out_2_acc: 0.9511\n",
      "Epoch 71/100\n",
      "28/28 [==============================] - 3s 107ms/step - loss: 0.1233 - out_1_loss: 0.0726 - out_2_loss: 0.0507 - out_1_acc: 0.9572 - out_2_acc: 0.9686 - val_loss: 0.2719 - val_out_1_loss: 0.1334 - val_out_2_loss: 0.1385 - val_out_1_acc: 0.9406 - val_out_2_acc: 0.9523\n",
      "Epoch 72/100\n",
      "28/28 [==============================] - 3s 109ms/step - loss: 0.1219 - out_1_loss: 0.0715 - out_2_loss: 0.0504 - out_1_acc: 0.9576 - out_2_acc: 0.9689 - val_loss: 0.2706 - val_out_1_loss: 0.1341 - val_out_2_loss: 0.1366 - val_out_1_acc: 0.9402 - val_out_2_acc: 0.9510\n",
      "Epoch 73/100\n",
      "28/28 [==============================] - 3s 108ms/step - loss: 0.1215 - out_1_loss: 0.0710 - out_2_loss: 0.0505 - out_1_acc: 0.9582 - out_2_acc: 0.9696 - val_loss: 0.2743 - val_out_1_loss: 0.1375 - val_out_2_loss: 0.1367 - val_out_1_acc: 0.9408 - val_out_2_acc: 0.9522\n",
      "Epoch 74/100\n",
      "28/28 [==============================] - 3s 109ms/step - loss: 0.1207 - out_1_loss: 0.0711 - out_2_loss: 0.0496 - out_1_acc: 0.9578 - out_2_acc: 0.9697 - val_loss: 0.2734 - val_out_1_loss: 0.1369 - val_out_2_loss: 0.1365 - val_out_1_acc: 0.9401 - val_out_2_acc: 0.9518\n",
      "Epoch 75/100\n",
      "28/28 [==============================] - 3s 108ms/step - loss: 0.1209 - out_1_loss: 0.0708 - out_2_loss: 0.0501 - out_1_acc: 0.9579 - out_2_acc: 0.9699 - val_loss: 0.2825 - val_out_1_loss: 0.1425 - val_out_2_loss: 0.1400 - val_out_1_acc: 0.9393 - val_out_2_acc: 0.9513\n",
      "Epoch 76/100\n",
      "28/28 [==============================] - 3s 109ms/step - loss: 0.1221 - out_1_loss: 0.0719 - out_2_loss: 0.0501 - out_1_acc: 0.9576 - out_2_acc: 0.9699 - val_loss: 0.2774 - val_out_1_loss: 0.1377 - val_out_2_loss: 0.1397 - val_out_1_acc: 0.9403 - val_out_2_acc: 0.9514\n",
      "Epoch 77/100\n"
     ]
    },
    {
     "name": "stdout",
     "output_type": "stream",
     "text": [
      "28/28 [==============================] - 3s 108ms/step - loss: 0.1196 - out_1_loss: 0.0699 - out_2_loss: 0.0498 - out_1_acc: 0.9585 - out_2_acc: 0.9703 - val_loss: 0.2817 - val_out_1_loss: 0.1396 - val_out_2_loss: 0.1422 - val_out_1_acc: 0.9402 - val_out_2_acc: 0.9518\n",
      "Epoch 78/100\n",
      "28/28 [==============================] - 3s 107ms/step - loss: 0.1193 - out_1_loss: 0.0691 - out_2_loss: 0.0502 - out_1_acc: 0.9589 - out_2_acc: 0.9697 - val_loss: 0.2832 - val_out_1_loss: 0.1416 - val_out_2_loss: 0.1416 - val_out_1_acc: 0.9403 - val_out_2_acc: 0.9513\n",
      "Epoch 79/100\n",
      "28/28 [==============================] - 3s 109ms/step - loss: 0.1187 - out_1_loss: 0.0688 - out_2_loss: 0.0498 - out_1_acc: 0.9591 - out_2_acc: 0.9703 - val_loss: 0.2810 - val_out_1_loss: 0.1420 - val_out_2_loss: 0.1391 - val_out_1_acc: 0.9402 - val_out_2_acc: 0.9507\n",
      "Epoch 80/100\n",
      "28/28 [==============================] - 3s 108ms/step - loss: 0.1186 - out_1_loss: 0.0692 - out_2_loss: 0.0494 - out_1_acc: 0.9590 - out_2_acc: 0.9705 - val_loss: 0.2836 - val_out_1_loss: 0.1396 - val_out_2_loss: 0.1441 - val_out_1_acc: 0.9405 - val_out_2_acc: 0.9514\n",
      "Epoch 81/100\n",
      "28/28 [==============================] - 3s 108ms/step - loss: 0.1504 - out_1_loss: 0.0731 - out_2_loss: 0.0773 - out_1_acc: 0.9580 - out_2_acc: 0.9622 - val_loss: 0.2884 - val_out_1_loss: 0.1450 - val_out_2_loss: 0.1434 - val_out_1_acc: 0.9392 - val_out_2_acc: 0.9512\n",
      "Epoch 82/100\n",
      "28/28 [==============================] - 3s 108ms/step - loss: 0.1354 - out_1_loss: 0.0745 - out_2_loss: 0.0609 - out_1_acc: 0.9556 - out_2_acc: 0.9647 - val_loss: 0.2747 - val_out_1_loss: 0.1407 - val_out_2_loss: 0.1340 - val_out_1_acc: 0.9398 - val_out_2_acc: 0.9514\n",
      "Epoch 83/100\n",
      "28/28 [==============================] - 3s 109ms/step - loss: 0.1244 - out_1_loss: 0.0710 - out_2_loss: 0.0534 - out_1_acc: 0.9570 - out_2_acc: 0.9677 - val_loss: 0.2771 - val_out_1_loss: 0.1437 - val_out_2_loss: 0.1334 - val_out_1_acc: 0.9407 - val_out_2_acc: 0.9517\n",
      "Epoch 84/100\n",
      "28/28 [==============================] - 3s 110ms/step - loss: 0.1188 - out_1_loss: 0.0685 - out_2_loss: 0.0503 - out_1_acc: 0.9589 - out_2_acc: 0.9697 - val_loss: 0.2808 - val_out_1_loss: 0.1428 - val_out_2_loss: 0.1380 - val_out_1_acc: 0.9402 - val_out_2_acc: 0.9511\n",
      "Epoch 85/100\n",
      "28/28 [==============================] - 3s 107ms/step - loss: 0.1175 - out_1_loss: 0.0676 - out_2_loss: 0.0499 - out_1_acc: 0.9601 - out_2_acc: 0.9704 - val_loss: 0.2805 - val_out_1_loss: 0.1429 - val_out_2_loss: 0.1377 - val_out_1_acc: 0.9401 - val_out_2_acc: 0.9519\n",
      "Epoch 86/100\n",
      "28/28 [==============================] - 3s 108ms/step - loss: 0.1169 - out_1_loss: 0.0678 - out_2_loss: 0.0491 - out_1_acc: 0.9601 - out_2_acc: 0.9706 - val_loss: 0.2867 - val_out_1_loss: 0.1459 - val_out_2_loss: 0.1408 - val_out_1_acc: 0.9403 - val_out_2_acc: 0.9512\n",
      "Epoch 87/100\n",
      "28/28 [==============================] - 3s 108ms/step - loss: 0.1161 - out_1_loss: 0.0671 - out_2_loss: 0.0490 - out_1_acc: 0.9607 - out_2_acc: 0.9707 - val_loss: 0.2841 - val_out_1_loss: 0.1434 - val_out_2_loss: 0.1407 - val_out_1_acc: 0.9395 - val_out_2_acc: 0.9517\n",
      "Epoch 88/100\n",
      "28/28 [==============================] - 3s 108ms/step - loss: 0.1167 - out_1_loss: 0.0681 - out_2_loss: 0.0486 - out_1_acc: 0.9598 - out_2_acc: 0.9715 - val_loss: 0.2880 - val_out_1_loss: 0.1474 - val_out_2_loss: 0.1406 - val_out_1_acc: 0.9389 - val_out_2_acc: 0.9519\n",
      "Epoch 89/100\n",
      "28/28 [==============================] - 3s 109ms/step - loss: 0.1155 - out_1_loss: 0.0676 - out_2_loss: 0.0479 - out_1_acc: 0.9603 - out_2_acc: 0.9721 - val_loss: 0.2847 - val_out_1_loss: 0.1455 - val_out_2_loss: 0.1393 - val_out_1_acc: 0.9394 - val_out_2_acc: 0.9517\n",
      "Epoch 90/100\n",
      "28/28 [==============================] - 3s 109ms/step - loss: 0.1141 - out_1_loss: 0.0668 - out_2_loss: 0.0473 - out_1_acc: 0.9604 - out_2_acc: 0.9719 - val_loss: 0.2880 - val_out_1_loss: 0.1443 - val_out_2_loss: 0.1437 - val_out_1_acc: 0.9396 - val_out_2_acc: 0.9515\n",
      "Epoch 91/100\n",
      "28/28 [==============================] - 3s 108ms/step - loss: 0.1147 - out_1_loss: 0.0669 - out_2_loss: 0.0478 - out_1_acc: 0.9605 - out_2_acc: 0.9721 - val_loss: 0.2891 - val_out_1_loss: 0.1455 - val_out_2_loss: 0.1436 - val_out_1_acc: 0.9408 - val_out_2_acc: 0.9513\n",
      "Epoch 92/100\n",
      "28/28 [==============================] - 3s 107ms/step - loss: 0.1150 - out_1_loss: 0.0673 - out_2_loss: 0.0476 - out_1_acc: 0.9607 - out_2_acc: 0.9722 - val_loss: 0.2923 - val_out_1_loss: 0.1475 - val_out_2_loss: 0.1448 - val_out_1_acc: 0.9398 - val_out_2_acc: 0.9505\n",
      "Epoch 93/100\n",
      "28/28 [==============================] - 3s 107ms/step - loss: 0.1144 - out_1_loss: 0.0664 - out_2_loss: 0.0480 - out_1_acc: 0.9612 - out_2_acc: 0.9717 - val_loss: 0.2905 - val_out_1_loss: 0.1473 - val_out_2_loss: 0.1433 - val_out_1_acc: 0.9402 - val_out_2_acc: 0.9513\n",
      "Epoch 94/100\n",
      "28/28 [==============================] - 3s 109ms/step - loss: 0.1125 - out_1_loss: 0.0652 - out_2_loss: 0.0473 - out_1_acc: 0.9619 - out_2_acc: 0.9721 - val_loss: 0.2943 - val_out_1_loss: 0.1484 - val_out_2_loss: 0.1459 - val_out_1_acc: 0.9402 - val_out_2_acc: 0.9519\n",
      "Epoch 95/100\n",
      "28/28 [==============================] - 3s 108ms/step - loss: 0.1117 - out_1_loss: 0.0653 - out_2_loss: 0.0465 - out_1_acc: 0.9619 - out_2_acc: 0.9730 - val_loss: 0.2995 - val_out_1_loss: 0.1524 - val_out_2_loss: 0.1471 - val_out_1_acc: 0.9388 - val_out_2_acc: 0.9527\n",
      "Epoch 96/100\n",
      "28/28 [==============================] - 3s 107ms/step - loss: 0.1097 - out_1_loss: 0.0638 - out_2_loss: 0.0458 - out_1_acc: 0.9623 - out_2_acc: 0.9734 - val_loss: 0.2990 - val_out_1_loss: 0.1510 - val_out_2_loss: 0.1481 - val_out_1_acc: 0.9403 - val_out_2_acc: 0.9527\n",
      "Epoch 97/100\n",
      "28/28 [==============================] - 3s 108ms/step - loss: 0.1089 - out_1_loss: 0.0629 - out_2_loss: 0.0460 - out_1_acc: 0.9631 - out_2_acc: 0.9729 - val_loss: 0.3059 - val_out_1_loss: 0.1541 - val_out_2_loss: 0.1518 - val_out_1_acc: 0.9392 - val_out_2_acc: 0.9517\n",
      "Epoch 98/100\n",
      "28/28 [==============================] - 3s 107ms/step - loss: 0.1093 - out_1_loss: 0.0631 - out_2_loss: 0.0462 - out_1_acc: 0.9628 - out_2_acc: 0.9731 - val_loss: 0.3027 - val_out_1_loss: 0.1537 - val_out_2_loss: 0.1490 - val_out_1_acc: 0.9398 - val_out_2_acc: 0.9525\n",
      "Epoch 99/100\n",
      "28/28 [==============================] - 3s 107ms/step - loss: 0.1088 - out_1_loss: 0.0629 - out_2_loss: 0.0458 - out_1_acc: 0.9629 - out_2_acc: 0.9734 - val_loss: 0.3007 - val_out_1_loss: 0.1535 - val_out_2_loss: 0.1472 - val_out_1_acc: 0.9401 - val_out_2_acc: 0.9510\n",
      "Epoch 100/100\n",
      "28/28 [==============================] - 3s 108ms/step - loss: 0.1071 - out_1_loss: 0.0622 - out_2_loss: 0.0449 - out_1_acc: 0.9636 - out_2_acc: 0.9742 - val_loss: 0.3077 - val_out_1_loss: 0.1554 - val_out_2_loss: 0.1523 - val_out_1_acc: 0.9404 - val_out_2_acc: 0.9515\n",
      "INFO:tensorflow:Assets written to: saved_model/(timestep)lstm-rnn-unit(200)-timesteps(15)-epoch(100)/assets\n",
      "6/6 [==============================] - 0s 48ms/step - loss: 0.2975 - out_1_loss: 0.1490 - out_2_loss: 0.1485 - out_1_acc: 0.9400 - out_2_acc: 0.9523\n",
      "(160000, 15, 32)\n",
      "112000 24000 24000\n",
      "train: 112000\n",
      "val: 24000\n",
      "test: 24000\n",
      "new train 112000\n",
      "Model: \"model_14\"\n",
      "__________________________________________________________________________________________________\n",
      "Layer (type)                    Output Shape         Param #     Connected to                     \n",
      "==================================================================================================\n",
      "input_15 (InputLayer)           [(None, 15, 32)]     0                                            \n",
      "__________________________________________________________________________________________________\n",
      "vfc_1_1 (LSTM)                  [(None, 15, 300), (N 399600      input_15[0][0]                   \n",
      "__________________________________________________________________________________________________\n",
      "vfc_1_2 (LSTM)                  [(None, 300), (None, 721200      vfc_1_1[0][0]                    \n",
      "__________________________________________________________________________________________________\n",
      "vfc_2_1 (LSTM)                  (None, 15, 300)      399600      input_15[0][0]                   \n",
      "                                                                 vfc_1_1[0][1]                    \n",
      "                                                                 vfc_1_1[0][2]                    \n",
      "__________________________________________________________________________________________________\n",
      "vfc_2_2 (LSTM)                  (None, 300)          721200      vfc_2_1[0][0]                    \n",
      "                                                                 vfc_1_2[0][1]                    \n",
      "                                                                 vfc_1_2[0][2]                    \n",
      "__________________________________________________________________________________________________\n",
      "dense_28 (Dense)                (None, 300)          90300       vfc_1_2[0][1]                    \n",
      "__________________________________________________________________________________________________\n",
      "dense_29 (Dense)                (None, 300)          90300       vfc_2_2[0][0]                    \n",
      "__________________________________________________________________________________________________\n",
      "out_1 (Dense)                   (None, 40)           12040       dense_28[0][0]                   \n",
      "__________________________________________________________________________________________________\n",
      "out_2 (Dense)                   (None, 40)           12040       dense_29[0][0]                   \n",
      "==================================================================================================\n",
      "Total params: 2,446,280\n",
      "Trainable params: 2,446,280\n",
      "Non-trainable params: 0\n",
      "__________________________________________________________________________________________________\n",
      "None\n"
     ]
    },
    {
     "name": "stdout",
     "output_type": "stream",
     "text": [
      "Epoch 1/100\n"
     ]
    },
    {
     "ename": "InternalError",
     "evalue": " [_Derived_]  Failed to call ThenRnnForward with model config: [rnn_mode, rnn_input_mode, rnn_direction_mode]: 2, 0, 0 , [num_layers, input_size, num_units, dir_count, max_seq_length, batch_size, cell_num_units]: [1, 300, 300, 1, 15, 4096, 300] \n\t [[{{node CudnnRNN}}]]\n\t [[model_14/vfc_2_2/StatefulPartitionedCall]] [Op:__inference_train_function_1379689]\n\nFunction call stack:\ntrain_function -> train_function -> train_function\n",
     "output_type": "error",
     "traceback": [
      "\u001b[0;31m---------------------------------------------------------------------------\u001b[0m",
      "\u001b[0;31mInternalError\u001b[0m                             Traceback (most recent call last)",
      "\u001b[0;32m<ipython-input-96-a2c3551bc0fb>\u001b[0m in \u001b[0;36m<module>\u001b[0;34m\u001b[0m\n\u001b[1;32m     19\u001b[0m \u001b[0;34m\u001b[0m\u001b[0m\n\u001b[1;32m     20\u001b[0m             \u001b[0mmodel\u001b[0m \u001b[0;34m=\u001b[0m \u001b[0mconstruct_model\u001b[0m\u001b[0;34m(\u001b[0m\u001b[0mtimesteps\u001b[0m\u001b[0;34m=\u001b[0m\u001b[0mtimesteps\u001b[0m\u001b[0;34m,\u001b[0m \u001b[0mdata_dim\u001b[0m \u001b[0;34m=\u001b[0m \u001b[0mX\u001b[0m\u001b[0;34m.\u001b[0m\u001b[0mshape\u001b[0m\u001b[0;34m[\u001b[0m\u001b[0;36m2\u001b[0m\u001b[0;34m]\u001b[0m\u001b[0;34m,\u001b[0m \u001b[0munits\u001b[0m\u001b[0;34m=\u001b[0m\u001b[0munits\u001b[0m\u001b[0;34m)\u001b[0m\u001b[0;34m\u001b[0m\u001b[0;34m\u001b[0m\u001b[0m\n\u001b[0;32m---> 21\u001b[0;31m             \u001b[0mmodel\u001b[0m\u001b[0;34m,\u001b[0m \u001b[0mhistory\u001b[0m \u001b[0;34m=\u001b[0m \u001b[0mcompile_fit_model\u001b[0m\u001b[0;34m(\u001b[0m\u001b[0mmodel\u001b[0m\u001b[0;34m,\u001b[0m\u001b[0mepochs\u001b[0m\u001b[0;34m=\u001b[0m\u001b[0mepoch\u001b[0m\u001b[0;34m,\u001b[0m\u001b[0mtrain_dataset\u001b[0m\u001b[0;34m=\u001b[0m\u001b[0mtrain_dataset\u001b[0m\u001b[0;34m,\u001b[0m\u001b[0mval_dataset\u001b[0m\u001b[0;34m=\u001b[0m\u001b[0mval_dataset\u001b[0m\u001b[0;34m)\u001b[0m\u001b[0;34m\u001b[0m\u001b[0;34m\u001b[0m\u001b[0m\n\u001b[0m\u001b[1;32m     22\u001b[0m             \u001b[0mmodel\u001b[0m\u001b[0;34m.\u001b[0m\u001b[0msave\u001b[0m\u001b[0;34m(\u001b[0m\u001b[0;34m\"saved_model/(timestep)lstm-rnn-unit(\"\u001b[0m\u001b[0;34m+\u001b[0m\u001b[0mstr\u001b[0m\u001b[0;34m(\u001b[0m\u001b[0munits\u001b[0m\u001b[0;34m)\u001b[0m\u001b[0;34m+\u001b[0m\u001b[0;34m\")-timesteps(\"\u001b[0m\u001b[0;34m+\u001b[0m\u001b[0mstr\u001b[0m\u001b[0;34m(\u001b[0m\u001b[0mtimesteps\u001b[0m\u001b[0;34m)\u001b[0m\u001b[0;34m+\u001b[0m\u001b[0;34m\")-epoch(\"\u001b[0m\u001b[0;34m+\u001b[0m\u001b[0mstr\u001b[0m\u001b[0;34m(\u001b[0m\u001b[0mepoch\u001b[0m\u001b[0;34m)\u001b[0m\u001b[0;34m+\u001b[0m\u001b[0;34m\")\"\u001b[0m\u001b[0;34m)\u001b[0m\u001b[0;34m\u001b[0m\u001b[0;34m\u001b[0m\u001b[0m\n\u001b[1;32m     23\u001b[0m             \u001b[0mresults\u001b[0m \u001b[0;34m=\u001b[0m \u001b[0mmodel\u001b[0m\u001b[0;34m.\u001b[0m\u001b[0mevaluate\u001b[0m\u001b[0;34m(\u001b[0m\u001b[0mtest_dataset\u001b[0m\u001b[0;34m)\u001b[0m\u001b[0;34m\u001b[0m\u001b[0;34m\u001b[0m\u001b[0m\n",
      "\u001b[0;32m~/workspace/research-assitant/Trembling-research/utils/lstm_rnn.py\u001b[0m in \u001b[0;36mcompile_fit_model\u001b[0;34m(model, epochs, train_dataset, val_dataset)\u001b[0m\n\u001b[1;32m     45\u001b[0m                         \u001b[0mepochs\u001b[0m\u001b[0;34m=\u001b[0m\u001b[0mepochs\u001b[0m\u001b[0;34m,\u001b[0m\u001b[0;34m\u001b[0m\u001b[0;34m\u001b[0m\u001b[0m\n\u001b[1;32m     46\u001b[0m                         \u001b[0mvalidation_data\u001b[0m\u001b[0;34m=\u001b[0m\u001b[0mval_dataset\u001b[0m\u001b[0;34m,\u001b[0m\u001b[0;34m\u001b[0m\u001b[0;34m\u001b[0m\u001b[0m\n\u001b[0;32m---> 47\u001b[0;31m                         \u001b[0mcallbacks\u001b[0m\u001b[0;34m=\u001b[0m\u001b[0;34m[\u001b[0m\u001b[0mcallback\u001b[0m\u001b[0;34m,\u001b[0m \u001b[0mtensorboard_callback\u001b[0m\u001b[0;34m]\u001b[0m\u001b[0;34m,\u001b[0m\u001b[0;34m\u001b[0m\u001b[0;34m\u001b[0m\u001b[0m\n\u001b[0m\u001b[1;32m     48\u001b[0m \u001b[0;34m\u001b[0m\u001b[0m\n\u001b[1;32m     49\u001b[0m                         )\n",
      "\u001b[0;32m~/miniconda3/envs/tf-ra/lib/python3.6/site-packages/tensorflow/python/keras/engine/training.py\u001b[0m in \u001b[0;36m_method_wrapper\u001b[0;34m(self, *args, **kwargs)\u001b[0m\n\u001b[1;32m     64\u001b[0m   \u001b[0;32mdef\u001b[0m \u001b[0m_method_wrapper\u001b[0m\u001b[0;34m(\u001b[0m\u001b[0mself\u001b[0m\u001b[0;34m,\u001b[0m \u001b[0;34m*\u001b[0m\u001b[0margs\u001b[0m\u001b[0;34m,\u001b[0m \u001b[0;34m**\u001b[0m\u001b[0mkwargs\u001b[0m\u001b[0;34m)\u001b[0m\u001b[0;34m:\u001b[0m\u001b[0;34m\u001b[0m\u001b[0;34m\u001b[0m\u001b[0m\n\u001b[1;32m     65\u001b[0m     \u001b[0;32mif\u001b[0m \u001b[0;32mnot\u001b[0m \u001b[0mself\u001b[0m\u001b[0;34m.\u001b[0m\u001b[0m_in_multi_worker_mode\u001b[0m\u001b[0;34m(\u001b[0m\u001b[0;34m)\u001b[0m\u001b[0;34m:\u001b[0m  \u001b[0;31m# pylint: disable=protected-access\u001b[0m\u001b[0;34m\u001b[0m\u001b[0;34m\u001b[0m\u001b[0m\n\u001b[0;32m---> 66\u001b[0;31m       \u001b[0;32mreturn\u001b[0m \u001b[0mmethod\u001b[0m\u001b[0;34m(\u001b[0m\u001b[0mself\u001b[0m\u001b[0;34m,\u001b[0m \u001b[0;34m*\u001b[0m\u001b[0margs\u001b[0m\u001b[0;34m,\u001b[0m \u001b[0;34m**\u001b[0m\u001b[0mkwargs\u001b[0m\u001b[0;34m)\u001b[0m\u001b[0;34m\u001b[0m\u001b[0;34m\u001b[0m\u001b[0m\n\u001b[0m\u001b[1;32m     67\u001b[0m \u001b[0;34m\u001b[0m\u001b[0m\n\u001b[1;32m     68\u001b[0m     \u001b[0;31m# Running inside `run_distribute_coordinator` already.\u001b[0m\u001b[0;34m\u001b[0m\u001b[0;34m\u001b[0m\u001b[0;34m\u001b[0m\u001b[0m\n",
      "\u001b[0;32m~/miniconda3/envs/tf-ra/lib/python3.6/site-packages/tensorflow/python/keras/engine/training.py\u001b[0m in \u001b[0;36mfit\u001b[0;34m(self, x, y, batch_size, epochs, verbose, callbacks, validation_split, validation_data, shuffle, class_weight, sample_weight, initial_epoch, steps_per_epoch, validation_steps, validation_batch_size, validation_freq, max_queue_size, workers, use_multiprocessing)\u001b[0m\n\u001b[1;32m    846\u001b[0m                 batch_size=batch_size):\n\u001b[1;32m    847\u001b[0m               \u001b[0mcallbacks\u001b[0m\u001b[0;34m.\u001b[0m\u001b[0mon_train_batch_begin\u001b[0m\u001b[0;34m(\u001b[0m\u001b[0mstep\u001b[0m\u001b[0;34m)\u001b[0m\u001b[0;34m\u001b[0m\u001b[0;34m\u001b[0m\u001b[0m\n\u001b[0;32m--> 848\u001b[0;31m               \u001b[0mtmp_logs\u001b[0m \u001b[0;34m=\u001b[0m \u001b[0mtrain_function\u001b[0m\u001b[0;34m(\u001b[0m\u001b[0miterator\u001b[0m\u001b[0;34m)\u001b[0m\u001b[0;34m\u001b[0m\u001b[0;34m\u001b[0m\u001b[0m\n\u001b[0m\u001b[1;32m    849\u001b[0m               \u001b[0;31m# Catch OutOfRangeError for Datasets of unknown size.\u001b[0m\u001b[0;34m\u001b[0m\u001b[0;34m\u001b[0m\u001b[0;34m\u001b[0m\u001b[0m\n\u001b[1;32m    850\u001b[0m               \u001b[0;31m# This blocks until the batch has finished executing.\u001b[0m\u001b[0;34m\u001b[0m\u001b[0;34m\u001b[0m\u001b[0;34m\u001b[0m\u001b[0m\n",
      "\u001b[0;32m~/miniconda3/envs/tf-ra/lib/python3.6/site-packages/tensorflow/python/eager/def_function.py\u001b[0m in \u001b[0;36m__call__\u001b[0;34m(self, *args, **kwds)\u001b[0m\n\u001b[1;32m    578\u001b[0m         \u001b[0mxla_context\u001b[0m\u001b[0;34m.\u001b[0m\u001b[0mExit\u001b[0m\u001b[0;34m(\u001b[0m\u001b[0;34m)\u001b[0m\u001b[0;34m\u001b[0m\u001b[0;34m\u001b[0m\u001b[0m\n\u001b[1;32m    579\u001b[0m     \u001b[0;32melse\u001b[0m\u001b[0;34m:\u001b[0m\u001b[0;34m\u001b[0m\u001b[0;34m\u001b[0m\u001b[0m\n\u001b[0;32m--> 580\u001b[0;31m       \u001b[0mresult\u001b[0m \u001b[0;34m=\u001b[0m \u001b[0mself\u001b[0m\u001b[0;34m.\u001b[0m\u001b[0m_call\u001b[0m\u001b[0;34m(\u001b[0m\u001b[0;34m*\u001b[0m\u001b[0margs\u001b[0m\u001b[0;34m,\u001b[0m \u001b[0;34m**\u001b[0m\u001b[0mkwds\u001b[0m\u001b[0;34m)\u001b[0m\u001b[0;34m\u001b[0m\u001b[0;34m\u001b[0m\u001b[0m\n\u001b[0m\u001b[1;32m    581\u001b[0m \u001b[0;34m\u001b[0m\u001b[0m\n\u001b[1;32m    582\u001b[0m     \u001b[0;32mif\u001b[0m \u001b[0mtracing_count\u001b[0m \u001b[0;34m==\u001b[0m \u001b[0mself\u001b[0m\u001b[0;34m.\u001b[0m\u001b[0m_get_tracing_count\u001b[0m\u001b[0;34m(\u001b[0m\u001b[0;34m)\u001b[0m\u001b[0;34m:\u001b[0m\u001b[0;34m\u001b[0m\u001b[0;34m\u001b[0m\u001b[0m\n",
      "\u001b[0;32m~/miniconda3/envs/tf-ra/lib/python3.6/site-packages/tensorflow/python/eager/def_function.py\u001b[0m in \u001b[0;36m_call\u001b[0;34m(self, *args, **kwds)\u001b[0m\n\u001b[1;32m    642\u001b[0m         \u001b[0;31m# Lifting succeeded, so variables are initialized and we can run the\u001b[0m\u001b[0;34m\u001b[0m\u001b[0;34m\u001b[0m\u001b[0;34m\u001b[0m\u001b[0m\n\u001b[1;32m    643\u001b[0m         \u001b[0;31m# stateless function.\u001b[0m\u001b[0;34m\u001b[0m\u001b[0;34m\u001b[0m\u001b[0;34m\u001b[0m\u001b[0m\n\u001b[0;32m--> 644\u001b[0;31m         \u001b[0;32mreturn\u001b[0m \u001b[0mself\u001b[0m\u001b[0;34m.\u001b[0m\u001b[0m_stateless_fn\u001b[0m\u001b[0;34m(\u001b[0m\u001b[0;34m*\u001b[0m\u001b[0margs\u001b[0m\u001b[0;34m,\u001b[0m \u001b[0;34m**\u001b[0m\u001b[0mkwds\u001b[0m\u001b[0;34m)\u001b[0m\u001b[0;34m\u001b[0m\u001b[0;34m\u001b[0m\u001b[0m\n\u001b[0m\u001b[1;32m    645\u001b[0m     \u001b[0;32melse\u001b[0m\u001b[0;34m:\u001b[0m\u001b[0;34m\u001b[0m\u001b[0;34m\u001b[0m\u001b[0m\n\u001b[1;32m    646\u001b[0m       \u001b[0mcanon_args\u001b[0m\u001b[0;34m,\u001b[0m \u001b[0mcanon_kwds\u001b[0m \u001b[0;34m=\u001b[0m\u001b[0;31m \u001b[0m\u001b[0;31m\\\u001b[0m\u001b[0;34m\u001b[0m\u001b[0;34m\u001b[0m\u001b[0m\n",
      "\u001b[0;32m~/miniconda3/envs/tf-ra/lib/python3.6/site-packages/tensorflow/python/eager/function.py\u001b[0m in \u001b[0;36m__call__\u001b[0;34m(self, *args, **kwargs)\u001b[0m\n\u001b[1;32m   2418\u001b[0m     \u001b[0;32mwith\u001b[0m \u001b[0mself\u001b[0m\u001b[0;34m.\u001b[0m\u001b[0m_lock\u001b[0m\u001b[0;34m:\u001b[0m\u001b[0;34m\u001b[0m\u001b[0;34m\u001b[0m\u001b[0m\n\u001b[1;32m   2419\u001b[0m       \u001b[0mgraph_function\u001b[0m\u001b[0;34m,\u001b[0m \u001b[0margs\u001b[0m\u001b[0;34m,\u001b[0m \u001b[0mkwargs\u001b[0m \u001b[0;34m=\u001b[0m \u001b[0mself\u001b[0m\u001b[0;34m.\u001b[0m\u001b[0m_maybe_define_function\u001b[0m\u001b[0;34m(\u001b[0m\u001b[0margs\u001b[0m\u001b[0;34m,\u001b[0m \u001b[0mkwargs\u001b[0m\u001b[0;34m)\u001b[0m\u001b[0;34m\u001b[0m\u001b[0;34m\u001b[0m\u001b[0m\n\u001b[0;32m-> 2420\u001b[0;31m     \u001b[0;32mreturn\u001b[0m \u001b[0mgraph_function\u001b[0m\u001b[0;34m.\u001b[0m\u001b[0m_filtered_call\u001b[0m\u001b[0;34m(\u001b[0m\u001b[0margs\u001b[0m\u001b[0;34m,\u001b[0m \u001b[0mkwargs\u001b[0m\u001b[0;34m)\u001b[0m  \u001b[0;31m# pylint: disable=protected-access\u001b[0m\u001b[0;34m\u001b[0m\u001b[0;34m\u001b[0m\u001b[0m\n\u001b[0m\u001b[1;32m   2421\u001b[0m \u001b[0;34m\u001b[0m\u001b[0m\n\u001b[1;32m   2422\u001b[0m   \u001b[0;34m@\u001b[0m\u001b[0mproperty\u001b[0m\u001b[0;34m\u001b[0m\u001b[0;34m\u001b[0m\u001b[0m\n",
      "\u001b[0;32m~/miniconda3/envs/tf-ra/lib/python3.6/site-packages/tensorflow/python/eager/function.py\u001b[0m in \u001b[0;36m_filtered_call\u001b[0;34m(self, args, kwargs)\u001b[0m\n\u001b[1;32m   1663\u001b[0m          if isinstance(t, (ops.Tensor,\n\u001b[1;32m   1664\u001b[0m                            resource_variable_ops.BaseResourceVariable))),\n\u001b[0;32m-> 1665\u001b[0;31m         self.captured_inputs)\n\u001b[0m\u001b[1;32m   1666\u001b[0m \u001b[0;34m\u001b[0m\u001b[0m\n\u001b[1;32m   1667\u001b[0m   \u001b[0;32mdef\u001b[0m \u001b[0m_call_flat\u001b[0m\u001b[0;34m(\u001b[0m\u001b[0mself\u001b[0m\u001b[0;34m,\u001b[0m \u001b[0margs\u001b[0m\u001b[0;34m,\u001b[0m \u001b[0mcaptured_inputs\u001b[0m\u001b[0;34m,\u001b[0m \u001b[0mcancellation_manager\u001b[0m\u001b[0;34m=\u001b[0m\u001b[0;32mNone\u001b[0m\u001b[0;34m)\u001b[0m\u001b[0;34m:\u001b[0m\u001b[0;34m\u001b[0m\u001b[0;34m\u001b[0m\u001b[0m\n",
      "\u001b[0;32m~/miniconda3/envs/tf-ra/lib/python3.6/site-packages/tensorflow/python/eager/function.py\u001b[0m in \u001b[0;36m_call_flat\u001b[0;34m(self, args, captured_inputs, cancellation_manager)\u001b[0m\n\u001b[1;32m   1744\u001b[0m       \u001b[0;31m# No tape is watching; skip to running the function.\u001b[0m\u001b[0;34m\u001b[0m\u001b[0;34m\u001b[0m\u001b[0;34m\u001b[0m\u001b[0m\n\u001b[1;32m   1745\u001b[0m       return self._build_call_outputs(self._inference_function.call(\n\u001b[0;32m-> 1746\u001b[0;31m           ctx, args, cancellation_manager=cancellation_manager))\n\u001b[0m\u001b[1;32m   1747\u001b[0m     forward_backward = self._select_forward_and_backward_functions(\n\u001b[1;32m   1748\u001b[0m         \u001b[0margs\u001b[0m\u001b[0;34m,\u001b[0m\u001b[0;34m\u001b[0m\u001b[0;34m\u001b[0m\u001b[0m\n",
      "\u001b[0;32m~/miniconda3/envs/tf-ra/lib/python3.6/site-packages/tensorflow/python/eager/function.py\u001b[0m in \u001b[0;36mcall\u001b[0;34m(self, ctx, args, cancellation_manager)\u001b[0m\n\u001b[1;32m    596\u001b[0m               \u001b[0minputs\u001b[0m\u001b[0;34m=\u001b[0m\u001b[0margs\u001b[0m\u001b[0;34m,\u001b[0m\u001b[0;34m\u001b[0m\u001b[0;34m\u001b[0m\u001b[0m\n\u001b[1;32m    597\u001b[0m               \u001b[0mattrs\u001b[0m\u001b[0;34m=\u001b[0m\u001b[0mattrs\u001b[0m\u001b[0;34m,\u001b[0m\u001b[0;34m\u001b[0m\u001b[0;34m\u001b[0m\u001b[0m\n\u001b[0;32m--> 598\u001b[0;31m               ctx=ctx)\n\u001b[0m\u001b[1;32m    599\u001b[0m         \u001b[0;32melse\u001b[0m\u001b[0;34m:\u001b[0m\u001b[0;34m\u001b[0m\u001b[0;34m\u001b[0m\u001b[0m\n\u001b[1;32m    600\u001b[0m           outputs = execute.execute_with_cancellation(\n",
      "\u001b[0;32m~/miniconda3/envs/tf-ra/lib/python3.6/site-packages/tensorflow/python/eager/execute.py\u001b[0m in \u001b[0;36mquick_execute\u001b[0;34m(op_name, num_outputs, inputs, attrs, ctx, name)\u001b[0m\n\u001b[1;32m     58\u001b[0m     \u001b[0mctx\u001b[0m\u001b[0;34m.\u001b[0m\u001b[0mensure_initialized\u001b[0m\u001b[0;34m(\u001b[0m\u001b[0;34m)\u001b[0m\u001b[0;34m\u001b[0m\u001b[0;34m\u001b[0m\u001b[0m\n\u001b[1;32m     59\u001b[0m     tensors = pywrap_tfe.TFE_Py_Execute(ctx._handle, device_name, op_name,\n\u001b[0;32m---> 60\u001b[0;31m                                         inputs, attrs, num_outputs)\n\u001b[0m\u001b[1;32m     61\u001b[0m   \u001b[0;32mexcept\u001b[0m \u001b[0mcore\u001b[0m\u001b[0;34m.\u001b[0m\u001b[0m_NotOkStatusException\u001b[0m \u001b[0;32mas\u001b[0m \u001b[0me\u001b[0m\u001b[0;34m:\u001b[0m\u001b[0;34m\u001b[0m\u001b[0;34m\u001b[0m\u001b[0m\n\u001b[1;32m     62\u001b[0m     \u001b[0;32mif\u001b[0m \u001b[0mname\u001b[0m \u001b[0;32mis\u001b[0m \u001b[0;32mnot\u001b[0m \u001b[0;32mNone\u001b[0m\u001b[0;34m:\u001b[0m\u001b[0;34m\u001b[0m\u001b[0;34m\u001b[0m\u001b[0m\n",
      "\u001b[0;31mInternalError\u001b[0m:  [_Derived_]  Failed to call ThenRnnForward with model config: [rnn_mode, rnn_input_mode, rnn_direction_mode]: 2, 0, 0 , [num_layers, input_size, num_units, dir_count, max_seq_length, batch_size, cell_num_units]: [1, 300, 300, 1, 15, 4096, 300] \n\t [[{{node CudnnRNN}}]]\n\t [[model_14/vfc_2_2/StatefulPartitionedCall]] [Op:__inference_train_function_1379689]\n\nFunction call stack:\ntrain_function -> train_function -> train_function\n"
     ]
    }
   ],
   "source": [
    "try_timesteps=[15]#list(range(3,18,3))\n",
    "try_units=[200,300,180]#[50,100,200,300,180]#list(range(10,200,20))\n",
    "try_epochs=[100]\n",
    " \n",
    "\"\"\"\n",
    "try_timesteps=[3]\n",
    "try_units=[180]#list(range(10,200,20))\n",
    "try_epochs=[150]\n",
    "\"\"\"\n",
    "df_all = pd.DataFrame([], columns=[[\"loss\", \"out_1_loss\", \"out_2_loss\", \"out_1_acc\", \"out_2_acc\", \"timesteps\", \"units\", \"epoch\"]])\n",
    "for timesteps in try_timesteps:\n",
    "    for units in try_units:\n",
    "        for epoch in try_epochs:\n",
    "            #X = tf.reshape(X_raw, [y.shape[0],timesteps,dataPoint_per_signal//timesteps])\n",
    "            X = np.reshape(X_raw, (y.shape[0],timesteps,dataPoint_per_signal//timesteps))\n",
    "            X = tf.convert_to_tensor(X)\n",
    "            print(X.shape)\n",
    "            train_dataset, val_dataset, test_dataset = split_dataset(X, y)\n",
    "            \n",
    "            model = construct_model(timesteps=timesteps, data_dim = X.shape[2], units=units)\n",
    "            model, history = compile_fit_model(model,epochs=epoch,train_dataset=train_dataset,val_dataset=val_dataset)\n",
    "            model.save(\"saved_model/(timestep)lstm-rnn-unit(\"+str(units)+\")-timesteps(\"+str(timesteps)+\")-epoch(\"+str(epoch)+\")\")\n",
    "            results = model.evaluate(test_dataset)\n",
    "            results.extend([timesteps, units, epoch])\n",
    "            df = pd.DataFrame([results], columns=[[\"loss\", \"out_1_loss\", \"out_2_loss\", \"out_1_acc\", \"out_2_acc\", \"timesteps\", \"units\", \"epoch\"]])\n",
    "            df_all = df_all.append(df)\n",
    "df_all.to_csv(\"save/result-time-w(\"+str(window_size)+\")-sh(\"+str(shift)+\").csv\")"
   ]
  },
  {
   "cell_type": "code",
   "execution_count": null,
   "id": "banner-humanity",
   "metadata": {
    "scrolled": true
   },
   "outputs": [],
   "source": [
    "df_all"
   ]
  },
  {
   "cell_type": "code",
   "execution_count": null,
   "id": "recreational-nicholas",
   "metadata": {},
   "outputs": [],
   "source": []
  },
  {
   "cell_type": "code",
   "execution_count": null,
   "id": "passive-timothy",
   "metadata": {},
   "outputs": [],
   "source": [
    "#testX_raw, y = generate_time_series_dataset(window_size=window_size, shift=shift, repeat=repeat)\n",
    "#print( X_raw.shape, y.shape )"
   ]
  },
  {
   "cell_type": "code",
   "execution_count": null,
   "id": "intense-manner",
   "metadata": {},
   "outputs": [],
   "source": [
    "X.shape"
   ]
  },
  {
   "cell_type": "code",
   "execution_count": null,
   "id": "divine-system",
   "metadata": {},
   "outputs": [],
   "source": []
  },
  {
   "cell_type": "code",
   "execution_count": null,
   "id": "tropical-identifier",
   "metadata": {},
   "outputs": [],
   "source": [
    "window_size"
   ]
  },
  {
   "cell_type": "markdown",
   "id": "9ff9d984",
   "metadata": {},
   "source": [
    "#test function"
   ]
  },
  {
   "cell_type": "code",
   "execution_count": null,
   "id": "heard-season",
   "metadata": {},
   "outputs": [],
   "source": [
    "# SHIFT的方法 using tensorflow\n",
    "range_ds = tf.data.Dataset.range(6)\n",
    "window_size = 3\n",
    "shift = 1\n",
    "windows = range_ds.window(window_size, shift=shift)\n",
    "def sub_to_batch(sub):\n",
    "    return sub.batch(window_size, drop_remainder=True)\n",
    "\n",
    "i=0\n",
    "for example in windows.flat_map(sub_to_batch):\n",
    "    print(example.numpy())\n",
    "    i+=1\n",
    "print(\"shape\", i)"
   ]
  },
  {
   "cell_type": "code",
   "execution_count": null,
   "id": "pressing-inflation",
   "metadata": {},
   "outputs": [],
   "source": [
    "data = np.arange(180)\n",
    "def sliding_window(data=None, window_size = 6, shift = 1):\n",
    "    return np.array(list( list(data[(x*shift):(x*shift)+window_size]) for x in range((data.shape[0]-window_size+1)//shift) ))\n",
    "\n",
    "a = sliding_window(data, window_size = 60, shift = 10)\n",
    "a"
   ]
  },
  {
   "cell_type": "code",
   "execution_count": null,
   "id": "brief-galaxy",
   "metadata": {},
   "outputs": [],
   "source": [
    "a.flatten().shape"
   ]
  },
  {
   "cell_type": "code",
   "execution_count": null,
   "id": "4890255c",
   "metadata": {},
   "outputs": [],
   "source": [
    "a.reshape(-1)"
   ]
  },
  {
   "cell_type": "code",
   "execution_count": null,
   "id": "included-breeding",
   "metadata": {},
   "outputs": [],
   "source": [
    "s = np_generate_signal([0,0],30)\n",
    "print(s.shape)\n",
    "s_window = sliding_window(data=s, window_size = 60, shift = 10).flatten()\n",
    "s_window.shape"
   ]
  },
  {
   "cell_type": "code",
   "execution_count": null,
   "id": "76cba782",
   "metadata": {},
   "outputs": [],
   "source": []
  },
  {
   "cell_type": "code",
   "execution_count": null,
   "id": "bdd4fb13",
   "metadata": {},
   "outputs": [],
   "source": []
  },
  {
   "cell_type": "code",
   "execution_count": null,
   "id": "5f252226",
   "metadata": {},
   "outputs": [],
   "source": [
    "window_size = 60 \n",
    "shift = 1\n",
    "_from=0\n",
    "_to=20\n",
    "sampling_rate=30\n",
    "repeat=100\n",
    "d=0.5\n",
    "\n",
    "f1 = np.arange(_from,_to*2, d*2)\n",
    "f2 = np.arange(_from, _to*2, d*2)\n",
    "\n",
    "mesh = np.array(np.meshgrid(f1,f2))\n",
    "# create labels \n",
    "combination = mesh.T.reshape(-1,2)\n",
    "combination = np.sort(combination)\n",
    "#combination = np.unique(combination, axis=0)\n",
    "combination = np.repeat(combination, repeat, axis=0)\n",
    "print(\"num of freq combination\", combination.shape)\n",
    "combination_onehot = tf.keras.utils.to_categorical(combination, num_classes=40)\n",
    "\n",
    "\n",
    "\n",
    "\n",
    "i=0\n",
    "data = np.zeros(combination.shape[0]*dataPoint_per_signal)\n",
    "\n",
    "for f1,f2 in combination:\n",
    "    start = time.time()\n",
    "    s = np_generate_signal([f1,f2],sampling_rate)\n",
    "    s_window = sliding_window(data=s, window_size = window_size, shift = shift).flatten()\n",
    "    #data = tf.concat((data, s_window), axis=0)\n",
    "    _start = time.time()\n",
    "    #data = np.append(data, s_window, axis=0)\n",
    "    data[dataPoint_per_signal*i:dataPoint_per_signal*(i+1)] =  s_window\n",
    "    end = time.time()\n",
    "\n",
    "    remain = combination.shape[0]-i\n",
    "    print(\"[\"+str(remain)+\"]|t:\"+str(round((end-start)*remain,2)), end-start,end=\"\\r\")\n",
    "    i+=1\n",
    "\n",
    "#data = data[dataPoint_per_signal:]\n",
    "print(data.shape)"
   ]
  },
  {
   "cell_type": "code",
   "execution_count": null,
   "id": "de0fd38a",
   "metadata": {},
   "outputs": [],
   "source": [
    "import matplotlib.pyplot as plt\n",
    "c=159999\n",
    "plt.plot(data[dataPoint_per_signal*c:dataPoint_per_signal*(c+1)])"
   ]
  },
  {
   "cell_type": "code",
   "execution_count": null,
   "id": "17fbc76c",
   "metadata": {},
   "outputs": [],
   "source": [
    "print(data.shape, s_window.shape, s.shape)"
   ]
  },
  {
   "cell_type": "code",
   "execution_count": null,
   "id": "57d6ac32",
   "metadata": {},
   "outputs": [],
   "source": [
    "data2 = np.append(data, s_window, axis=0)\n",
    "data2"
   ]
  },
  {
   "cell_type": "code",
   "execution_count": null,
   "id": "a58c8a50",
   "metadata": {},
   "outputs": [],
   "source": []
  },
  {
   "cell_type": "code",
   "execution_count": null,
   "id": "4400a6fc",
   "metadata": {},
   "outputs": [],
   "source": [
    "a = np.zeros(combination.shape[0]*dataPoint_per_signal)\n",
    "print(a.shape)\n",
    "a\n"
   ]
  },
  {
   "cell_type": "code",
   "execution_count": null,
   "id": "ef0769d9",
   "metadata": {
    "scrolled": true
   },
   "outputs": [],
   "source": [
    "a[0:2]=[1,2]\n",
    "a"
   ]
  },
  {
   "cell_type": "code",
   "execution_count": null,
   "id": "08af46a3",
   "metadata": {},
   "outputs": [],
   "source": [
    "a = np.arange(180)\n",
    "b = sliding_window(data=a, window_size = 60, shift = 1)\n",
    "print(b.shape, b.flatten().shape)\n",
    "print(b)"
   ]
  },
  {
   "cell_type": "code",
   "execution_count": null,
   "id": "0f4e0daf",
   "metadata": {},
   "outputs": [],
   "source": []
  }
 ],
 "metadata": {
  "kernelspec": {
   "display_name": "Python 3",
   "language": "python",
   "name": "python3"
  },
  "language_info": {
   "codemirror_mode": {
    "name": "ipython",
    "version": 3
   },
   "file_extension": ".py",
   "mimetype": "text/x-python",
   "name": "python",
   "nbconvert_exporter": "python",
   "pygments_lexer": "ipython3",
   "version": "3.6.13"
  }
 },
 "nbformat": 4,
 "nbformat_minor": 5
}
